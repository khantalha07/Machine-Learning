{
 "cells": [
  {
   "cell_type": "code",
   "execution_count": 1,
   "id": "db1b576e",
   "metadata": {},
   "outputs": [
    {
     "name": "stdout",
     "output_type": "stream",
     "text": [
      "WARNING:tensorflow:From C:\\Users\\User\\AppData\\Roaming\\Python\\Python39\\site-packages\\keras\\src\\losses.py:2976: The name tf.losses.sparse_softmax_cross_entropy is deprecated. Please use tf.compat.v1.losses.sparse_softmax_cross_entropy instead.\n",
      "\n"
     ]
    }
   ],
   "source": [
    "import os\n",
    "import librosa\n",
    "import numpy as np\n",
    "from sklearn.model_selection import train_test_split\n",
    "from sklearn.preprocessing import StandardScaler\n",
    "from tensorflow.keras.models import Sequential\n",
    "from tensorflow.keras.layers import Dense, Dropout, Flatten, Conv2D, MaxPooling2D\n",
    "from tensorflow.keras.optimizers import Adam\n",
    "from tensorflow.keras.utils import to_categorical"
   ]
  },
  {
   "cell_type": "code",
   "execution_count": 2,
   "id": "62c9d14b",
   "metadata": {},
   "outputs": [],
   "source": [
    "RAVDESS_DIR = \"./archive2/\""
   ]
  },
  {
   "cell_type": "code",
   "execution_count": 3,
   "id": "e4a1ea6e",
   "metadata": {},
   "outputs": [],
   "source": [
    "file_paths = []\n",
    "for root, dirs, files in os.walk(RAVDESS_DIR):\n",
    "    for file in files:\n",
    "        if file.endswith(\".wav\"):\n",
    "            file_paths.append(os.path.join(root, file))"
   ]
  },
  {
   "cell_type": "code",
   "execution_count": 8,
   "id": "f1dedd97",
   "metadata": {},
   "outputs": [],
   "source": [
    "def extract_features(file_path, max_pad_len=400):\n",
    "    audio, sample_rate = librosa.load(file_path, res_type='kaiser_fast')\n",
    "    mfccs = librosa.feature.mfcc(y=audio, sr=sample_rate, n_mfcc=40)\n",
    "    if (max_pad_len > mfccs.shape[1]):\n",
    "        pad_width = max_pad_len - mfccs.shape[1]\n",
    "        mfccs = np.pad(mfccs, pad_width=((0, 0), (0, pad_width)), mode='constant')\n",
    "    else:\n",
    "        mfccs = mfccs[:, :max_pad_len]\n",
    "    \n",
    "    return mfccs\n"
   ]
  },
  {
   "cell_type": "code",
   "execution_count": 9,
   "id": "7bbc2290",
   "metadata": {},
   "outputs": [],
   "source": [
    "def extract_labels(file_path):\n",
    "    filename = os.path.basename(file_path)\n",
    "    parts = filename.split(\"-\")\n",
    "    emotion = int(parts[2])\n",
    "    \n",
    "    return emotion"
   ]
  },
  {
   "cell_type": "code",
   "execution_count": 10,
   "id": "2f2b9784",
   "metadata": {},
   "outputs": [],
   "source": [
    "features = []\n",
    "labels = []\n",
    "for path in file_paths:\n",
    "    features.append(extract_features(path))\n",
    "    labels.append(extract_labels(path))"
   ]
  },
  {
   "cell_type": "code",
   "execution_count": 11,
   "id": "306f226d",
   "metadata": {},
   "outputs": [],
   "source": [
    "features = np.array(features)\n",
    "labels = np.array(labels)"
   ]
  },
  {
   "cell_type": "code",
   "execution_count": 12,
   "id": "19e48648",
   "metadata": {},
   "outputs": [],
   "source": [
    "features = features.reshape(features.shape[0], features.shape[1], features.shape[2], 1)"
   ]
  },
  {
   "cell_type": "code",
   "execution_count": 13,
   "id": "538a7fd9",
   "metadata": {},
   "outputs": [],
   "source": [
    "labels = to_categorical(labels)"
   ]
  },
  {
   "cell_type": "code",
   "execution_count": 14,
   "id": "514ea709",
   "metadata": {},
   "outputs": [],
   "source": [
    "features_train, features_test, labels_train, labels_test = train_test_split(features, labels, test_size=0.2, random_state=42)"
   ]
  },
  {
   "cell_type": "code",
   "execution_count": 15,
   "id": "78977453",
   "metadata": {},
   "outputs": [
    {
     "name": "stdout",
     "output_type": "stream",
     "text": [
      "WARNING:tensorflow:From C:\\Users\\User\\AppData\\Roaming\\Python\\Python39\\site-packages\\keras\\src\\backend.py:873: The name tf.get_default_graph is deprecated. Please use tf.compat.v1.get_default_graph instead.\n",
      "\n",
      "WARNING:tensorflow:From C:\\Users\\User\\AppData\\Roaming\\Python\\Python39\\site-packages\\keras\\src\\layers\\pooling\\max_pooling2d.py:161: The name tf.nn.max_pool is deprecated. Please use tf.nn.max_pool2d instead.\n",
      "\n"
     ]
    }
   ],
   "source": [
    "model = Sequential()\n",
    "model.add(Conv2D(32, kernel_size=(2, 2), activation='relu', input_shape=(features.shape[1], features.shape[2], 1)))\n",
    "model.add(MaxPooling2D(pool_size=(2, 2)))\n",
    "model.add(Dropout(0.25))\n",
    "model.add(Flatten())\n",
    "model.add(Dense(128, activation='relu'))\n",
    "model.add(Dropout(0.5))\n",
    "model.add(Dense(labels.shape[1], activation='softmax'))"
   ]
  },
  {
   "cell_type": "code",
   "execution_count": 16,
   "id": "d1fcbd2f",
   "metadata": {},
   "outputs": [],
   "source": [
    "model.compile(loss='categorical_crossentropy', optimizer=Adam(), metrics=['accuracy'])"
   ]
  },
  {
   "cell_type": "code",
   "execution_count": 17,
   "id": "d736436d",
   "metadata": {},
   "outputs": [
    {
     "name": "stdout",
     "output_type": "stream",
     "text": [
      "Epoch 1/50\n",
      "WARNING:tensorflow:From C:\\Users\\User\\AppData\\Roaming\\Python\\Python39\\site-packages\\keras\\src\\utils\\tf_utils.py:492: The name tf.ragged.RaggedTensorValue is deprecated. Please use tf.compat.v1.ragged.RaggedTensorValue instead.\n",
      "\n",
      "WARNING:tensorflow:From C:\\Users\\User\\AppData\\Roaming\\Python\\Python39\\site-packages\\keras\\src\\engine\\base_layer_utils.py:384: The name tf.executing_eagerly_outside_functions is deprecated. Please use tf.compat.v1.executing_eagerly_outside_functions instead.\n",
      "\n",
      "72/72 [==============================] - 13s 166ms/step - loss: 25.4189 - accuracy: 0.1328 - val_loss: 2.1889 - val_accuracy: 0.1059\n",
      "Epoch 2/50\n",
      "72/72 [==============================] - 11s 156ms/step - loss: 2.1818 - accuracy: 0.1293 - val_loss: 2.1782 - val_accuracy: 0.1372\n",
      "Epoch 3/50\n",
      "72/72 [==============================] - 11s 148ms/step - loss: 2.1716 - accuracy: 0.1393 - val_loss: 2.1482 - val_accuracy: 0.1198\n",
      "Epoch 4/50\n",
      "72/72 [==============================] - 11s 149ms/step - loss: 2.1550 - accuracy: 0.1471 - val_loss: 2.1489 - val_accuracy: 0.1163\n",
      "Epoch 5/50\n",
      "72/72 [==============================] - 11s 150ms/step - loss: 2.1486 - accuracy: 0.1432 - val_loss: 2.1091 - val_accuracy: 0.1337\n",
      "Epoch 6/50\n",
      "72/72 [==============================] - 11s 148ms/step - loss: 2.1407 - accuracy: 0.1484 - val_loss: 2.1371 - val_accuracy: 0.1146\n",
      "Epoch 7/50\n",
      "72/72 [==============================] - 11s 148ms/step - loss: 2.1315 - accuracy: 0.1450 - val_loss: 2.1413 - val_accuracy: 0.1059\n",
      "Epoch 8/50\n",
      "72/72 [==============================] - 11s 149ms/step - loss: 2.1333 - accuracy: 0.1406 - val_loss: 2.1362 - val_accuracy: 0.1059\n",
      "Epoch 9/50\n",
      "72/72 [==============================] - 11s 148ms/step - loss: 2.1271 - accuracy: 0.1411 - val_loss: 2.1319 - val_accuracy: 0.1059\n",
      "Epoch 10/50\n",
      "72/72 [==============================] - 11s 151ms/step - loss: 2.1234 - accuracy: 0.1406 - val_loss: 2.1277 - val_accuracy: 0.1059\n",
      "Epoch 11/50\n",
      "72/72 [==============================] - 11s 149ms/step - loss: 2.1183 - accuracy: 0.1411 - val_loss: 2.1240 - val_accuracy: 0.1059\n",
      "Epoch 12/50\n",
      "72/72 [==============================] - 11s 149ms/step - loss: 2.1146 - accuracy: 0.1411 - val_loss: 2.1209 - val_accuracy: 0.1059\n",
      "Epoch 13/50\n",
      "72/72 [==============================] - 11s 150ms/step - loss: 2.1111 - accuracy: 0.1411 - val_loss: 2.1180 - val_accuracy: 0.1059\n",
      "Epoch 14/50\n",
      "72/72 [==============================] - 11s 150ms/step - loss: 2.1099 - accuracy: 0.1402 - val_loss: 2.1151 - val_accuracy: 0.1059\n",
      "Epoch 15/50\n",
      "72/72 [==============================] - 11s 148ms/step - loss: 2.1062 - accuracy: 0.1406 - val_loss: 2.1126 - val_accuracy: 0.1059\n",
      "Epoch 16/50\n",
      "72/72 [==============================] - 11s 150ms/step - loss: 2.1036 - accuracy: 0.1406 - val_loss: 2.1105 - val_accuracy: 0.1059\n",
      "Epoch 17/50\n",
      "72/72 [==============================] - 11s 149ms/step - loss: 2.1012 - accuracy: 0.1406 - val_loss: 2.1082 - val_accuracy: 0.1059\n",
      "Epoch 18/50\n",
      "72/72 [==============================] - 11s 147ms/step - loss: 2.1000 - accuracy: 0.1402 - val_loss: 2.1064 - val_accuracy: 0.1059\n",
      "Epoch 19/50\n",
      "72/72 [==============================] - 11s 149ms/step - loss: 2.0962 - accuracy: 0.1411 - val_loss: 2.1046 - val_accuracy: 0.1059\n",
      "Epoch 20/50\n",
      "72/72 [==============================] - 11s 149ms/step - loss: 2.0952 - accuracy: 0.1406 - val_loss: 2.1030 - val_accuracy: 0.1059\n",
      "Epoch 21/50\n",
      "72/72 [==============================] - 11s 149ms/step - loss: 2.0926 - accuracy: 0.1411 - val_loss: 2.1013 - val_accuracy: 0.1059\n",
      "Epoch 22/50\n",
      "72/72 [==============================] - 11s 149ms/step - loss: 2.0919 - accuracy: 0.1406 - val_loss: 2.0997 - val_accuracy: 0.1059\n",
      "Epoch 23/50\n",
      "72/72 [==============================] - 11s 149ms/step - loss: 2.0904 - accuracy: 0.1406 - val_loss: 2.0987 - val_accuracy: 0.1059\n",
      "Epoch 24/50\n",
      "72/72 [==============================] - 11s 148ms/step - loss: 2.0891 - accuracy: 0.1406 - val_loss: 2.0972 - val_accuracy: 0.1059\n",
      "Epoch 25/50\n",
      "72/72 [==============================] - 11s 150ms/step - loss: 2.0886 - accuracy: 0.1402 - val_loss: 2.0960 - val_accuracy: 0.1059\n",
      "Epoch 26/50\n",
      "72/72 [==============================] - 11s 151ms/step - loss: 2.0865 - accuracy: 0.1406 - val_loss: 2.0948 - val_accuracy: 0.1059\n",
      "Epoch 27/50\n",
      "72/72 [==============================] - 11s 151ms/step - loss: 2.0862 - accuracy: 0.1402 - val_loss: 2.0937 - val_accuracy: 0.1059\n",
      "Epoch 28/50\n",
      "72/72 [==============================] - 11s 152ms/step - loss: 2.1014 - accuracy: 0.1406 - val_loss: 2.0927 - val_accuracy: 0.1059\n",
      "Epoch 29/50\n",
      "72/72 [==============================] - 11s 150ms/step - loss: 2.0823 - accuracy: 0.1411 - val_loss: 2.0917 - val_accuracy: 0.1059\n",
      "Epoch 30/50\n",
      "72/72 [==============================] - 11s 149ms/step - loss: 2.0821 - accuracy: 0.1406 - val_loss: 2.0907 - val_accuracy: 0.1059\n",
      "Epoch 31/50\n",
      "72/72 [==============================] - 11s 149ms/step - loss: 2.0803 - accuracy: 0.1411 - val_loss: 2.0899 - val_accuracy: 0.1059\n",
      "Epoch 32/50\n",
      "72/72 [==============================] - 11s 150ms/step - loss: 2.0795 - accuracy: 0.1411 - val_loss: 2.0890 - val_accuracy: 0.1059\n",
      "Epoch 33/50\n",
      "72/72 [==============================] - 11s 152ms/step - loss: 2.0796 - accuracy: 0.1406 - val_loss: 2.0882 - val_accuracy: 0.1059\n",
      "Epoch 34/50\n",
      "72/72 [==============================] - 11s 152ms/step - loss: 2.0788 - accuracy: 0.1406 - val_loss: 2.0875 - val_accuracy: 0.1059\n",
      "Epoch 35/50\n",
      "72/72 [==============================] - 11s 150ms/step - loss: 2.0780 - accuracy: 0.1406 - val_loss: 2.0869 - val_accuracy: 0.1059\n",
      "Epoch 36/50\n",
      "72/72 [==============================] - 11s 149ms/step - loss: 2.0782 - accuracy: 0.1402 - val_loss: 2.0862 - val_accuracy: 0.1059\n",
      "Epoch 37/50\n",
      "72/72 [==============================] - 11s 150ms/step - loss: 2.0766 - accuracy: 0.1406 - val_loss: 2.0856 - val_accuracy: 0.1059\n",
      "Epoch 38/50\n",
      "72/72 [==============================] - 11s 151ms/step - loss: 2.0760 - accuracy: 0.1406 - val_loss: 2.0848 - val_accuracy: 0.1059\n",
      "Epoch 39/50\n",
      "72/72 [==============================] - 11s 149ms/step - loss: 2.0753 - accuracy: 0.1406 - val_loss: 2.0844 - val_accuracy: 0.1059\n",
      "Epoch 40/50\n",
      "72/72 [==============================] - 11s 149ms/step - loss: 2.0738 - accuracy: 0.1411 - val_loss: 2.0837 - val_accuracy: 0.1059\n",
      "Epoch 41/50\n",
      "72/72 [==============================] - 11s 150ms/step - loss: 2.0751 - accuracy: 0.1402 - val_loss: 2.0833 - val_accuracy: 0.1059\n",
      "Epoch 42/50\n",
      "72/72 [==============================] - 11s 149ms/step - loss: 2.0736 - accuracy: 0.1406 - val_loss: 2.0826 - val_accuracy: 0.1059\n",
      "Epoch 43/50\n",
      "72/72 [==============================] - 11s 149ms/step - loss: 2.0731 - accuracy: 0.1406 - val_loss: 2.0823 - val_accuracy: 0.1059\n",
      "Epoch 44/50\n",
      "72/72 [==============================] - 11s 150ms/step - loss: 2.0726 - accuracy: 0.1406 - val_loss: 2.0817 - val_accuracy: 0.1059\n",
      "Epoch 45/50\n",
      "72/72 [==============================] - 11s 149ms/step - loss: 2.0713 - accuracy: 0.1411 - val_loss: 2.0812 - val_accuracy: 0.1059\n",
      "Epoch 46/50\n",
      "72/72 [==============================] - 11s 149ms/step - loss: 2.0708 - accuracy: 0.1411 - val_loss: 2.0807 - val_accuracy: 0.1059\n",
      "Epoch 47/50\n",
      "72/72 [==============================] - 11s 149ms/step - loss: 2.3909 - accuracy: 0.1406 - val_loss: 2.0804 - val_accuracy: 0.1059\n",
      "Epoch 48/50\n",
      "72/72 [==============================] - 11s 150ms/step - loss: 2.0700 - accuracy: 0.1411 - val_loss: 2.0800 - val_accuracy: 0.1059\n",
      "Epoch 49/50\n",
      "72/72 [==============================] - 11s 149ms/step - loss: 2.0704 - accuracy: 0.1406 - val_loss: 2.0795 - val_accuracy: 0.1059\n",
      "Epoch 50/50\n",
      "72/72 [==============================] - 11s 150ms/step - loss: 2.0692 - accuracy: 0.1411 - val_loss: 2.0791 - val_accuracy: 0.1059\n"
     ]
    },
    {
     "data": {
      "text/plain": [
       "<keras.src.callbacks.History at 0x2ac4d88adf0>"
      ]
     },
     "execution_count": 17,
     "metadata": {},
     "output_type": "execute_result"
    }
   ],
   "source": [
    "model.fit(features_train, labels_train, batch_size=32, epochs=50, verbose=1, validation_data=(features_test, labels_test))"
   ]
  },
  {
   "cell_type": "code",
   "execution_count": 18,
   "id": "418f4e78",
   "metadata": {},
   "outputs": [],
   "source": [
    "loss, accuracy = model.evaluate(features_test, labels_test, verbose=0)"
   ]
  },
  {
   "cell_type": "code",
   "execution_count": 19,
   "id": "baaf3cb1",
   "metadata": {},
   "outputs": [
    {
     "name": "stdout",
     "output_type": "stream",
     "text": [
      "Accuracy: 10.59%\n"
     ]
    }
   ],
   "source": [
    "print(f\"Accuracy: {accuracy * 100:.2f}%\")"
   ]
  },
  {
   "cell_type": "code",
   "execution_count": null,
   "id": "9d49ce0a",
   "metadata": {},
   "outputs": [],
   "source": []
  }
 ],
 "metadata": {
  "kernelspec": {
   "display_name": "Python 3 (ipykernel)",
   "language": "python",
   "name": "python3"
  },
  "language_info": {
   "codemirror_mode": {
    "name": "ipython",
    "version": 3
   },
   "file_extension": ".py",
   "mimetype": "text/x-python",
   "name": "python",
   "nbconvert_exporter": "python",
   "pygments_lexer": "ipython3",
   "version": "3.9.13"
  }
 },
 "nbformat": 4,
 "nbformat_minor": 5
}
