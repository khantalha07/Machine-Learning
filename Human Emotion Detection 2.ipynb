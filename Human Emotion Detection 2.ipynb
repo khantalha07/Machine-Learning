{
 "cells": [
  {
   "cell_type": "code",
   "execution_count": 1,
   "id": "88f741a6",
   "metadata": {},
   "outputs": [
    {
     "name": "stderr",
     "output_type": "stream",
     "text": [
      "C:\\ProgramData\\Anaconda3\\lib\\site-packages\\scipy\\__init__.py:155: UserWarning: A NumPy version >=1.18.5 and <1.25.0 is required for this version of SciPy (detected version 1.26.3\n",
      "  warnings.warn(f\"A NumPy version >={np_minversion} and <{np_maxversion}\"\n"
     ]
    },
    {
     "name": "stdout",
     "output_type": "stream",
     "text": [
      "WARNING:tensorflow:From C:\\Users\\User\\AppData\\Roaming\\Python\\Python39\\site-packages\\keras\\src\\losses.py:2976: The name tf.losses.sparse_softmax_cross_entropy is deprecated. Please use tf.compat.v1.losses.sparse_softmax_cross_entropy instead.\n",
      "\n"
     ]
    }
   ],
   "source": [
    "import numpy as np\n",
    "import pandas as pd\n",
    "from keras.models import Sequential\n",
    "from keras.layers import Dense, Dropout, Flatten\n",
    "from keras.layers import Conv2D, MaxPooling2D"
   ]
  },
  {
   "cell_type": "code",
   "execution_count": 2,
   "id": "184b5f7b",
   "metadata": {},
   "outputs": [],
   "source": [
    "data = pd.read_csv('fer2013.csv')"
   ]
  },
  {
   "cell_type": "code",
   "execution_count": 3,
   "id": "476fb93a",
   "metadata": {},
   "outputs": [],
   "source": [
    "pixels = data['pixels'].tolist()\n",
    "faces = []\n",
    "for pixel_sequence in pixels:\n",
    "    face = [int(pixel) for pixel in pixel_sequence.split(' ')]\n",
    "    face = np.asarray(face).reshape(48, 48)\n",
    "    faces.append(face.astype('float32'))"
   ]
  },
  {
   "cell_type": "code",
   "execution_count": 4,
   "id": "2928ad9b",
   "metadata": {},
   "outputs": [],
   "source": [
    "faces = np.asarray(faces)\n",
    "faces = np.expand_dims(faces, -1)\n",
    "emotions = pd.get_dummies(data['emotion']).values"
   ]
  },
  {
   "cell_type": "code",
   "execution_count": 5,
   "id": "89bb89ae",
   "metadata": {},
   "outputs": [],
   "source": [
    "train_faces = faces[int(len(faces)/2):]\n",
    "train_emotions = emotions[int(len(faces)/2):]\n",
    "test_faces = faces[:int(len(faces)/2)]\n",
    "test_emotions = emotions[:int(len(faces)/2)]"
   ]
  },
  {
   "cell_type": "code",
   "execution_count": 6,
   "id": "d3ce9de7",
   "metadata": {},
   "outputs": [
    {
     "name": "stdout",
     "output_type": "stream",
     "text": [
      "WARNING:tensorflow:From C:\\Users\\User\\AppData\\Roaming\\Python\\Python39\\site-packages\\keras\\src\\backend.py:873: The name tf.get_default_graph is deprecated. Please use tf.compat.v1.get_default_graph instead.\n",
      "\n"
     ]
    }
   ],
   "source": [
    "model = Sequential()"
   ]
  },
  {
   "cell_type": "code",
   "execution_count": 7,
   "id": "f60a990c",
   "metadata": {},
   "outputs": [
    {
     "name": "stdout",
     "output_type": "stream",
     "text": [
      "WARNING:tensorflow:From C:\\Users\\User\\AppData\\Roaming\\Python\\Python39\\site-packages\\keras\\src\\layers\\pooling\\max_pooling2d.py:161: The name tf.nn.max_pool is deprecated. Please use tf.nn.max_pool2d instead.\n",
      "\n"
     ]
    }
   ],
   "source": [
    "model.add(Conv2D(64, kernel_size=(3, 3), activation='relu', input_shape=(48, 48, 1)))\n",
    "model.add(Conv2D(64, kernel_size=(3, 3), activation='relu'))\n",
    "model.add(MaxPooling2D(pool_size=(2, 2)))\n",
    "model.add(Dropout(0.5))"
   ]
  },
  {
   "cell_type": "code",
   "execution_count": 8,
   "id": "698181ac",
   "metadata": {},
   "outputs": [],
   "source": [
    "model.add(Conv2D(128, kernel_size=(3, 3), activation='relu'))\n",
    "model.add(Conv2D(128, kernel_size=(3, 3), activation='relu'))\n",
    "model.add(MaxPooling2D(pool_size=(2, 2)))\n",
    "model.add(Dropout(0.5))"
   ]
  },
  {
   "cell_type": "code",
   "execution_count": 9,
   "id": "34a88ce8",
   "metadata": {},
   "outputs": [],
   "source": [
    "model.add(Conv2D(256, kernel_size=(3, 3), activation='relu'))\n",
    "model.add(Conv2D(256, kernel_size=(3, 3), activation='relu'))\n",
    "model.add(MaxPooling2D(pool_size=(2, 2)))\n",
    "model.add(Dropout(0.5))"
   ]
  },
  {
   "cell_type": "code",
   "execution_count": 10,
   "id": "97b47f4c",
   "metadata": {},
   "outputs": [],
   "source": [
    "model.add(Flatten())\n",
    "model.add(Dense(1024, activation='relu'))\n",
    "model.add(Dropout(0.5))\n",
    "model.add(Dense(7, activation='softmax'))"
   ]
  },
  {
   "cell_type": "code",
   "execution_count": 11,
   "id": "4d2f16e0",
   "metadata": {},
   "outputs": [
    {
     "name": "stdout",
     "output_type": "stream",
     "text": [
      "WARNING:tensorflow:From C:\\Users\\User\\AppData\\Roaming\\Python\\Python39\\site-packages\\keras\\src\\optimizers\\__init__.py:309: The name tf.train.Optimizer is deprecated. Please use tf.compat.v1.train.Optimizer instead.\n",
      "\n"
     ]
    }
   ],
   "source": [
    "model.compile(loss='categorical_crossentropy', optimizer='adam', metrics=['accuracy'])"
   ]
  },
  {
   "cell_type": "code",
   "execution_count": 12,
   "id": "fff322dc",
   "metadata": {},
   "outputs": [
    {
     "name": "stdout",
     "output_type": "stream",
     "text": [
      "Epoch 1/40\n",
      "WARNING:tensorflow:From C:\\Users\\User\\AppData\\Roaming\\Python\\Python39\\site-packages\\keras\\src\\utils\\tf_utils.py:492: The name tf.ragged.RaggedTensorValue is deprecated. Please use tf.compat.v1.ragged.RaggedTensorValue instead.\n",
      "\n",
      "WARNING:tensorflow:From C:\\Users\\User\\AppData\\Roaming\\Python\\Python39\\site-packages\\keras\\src\\engine\\base_layer_utils.py:384: The name tf.executing_eagerly_outside_functions is deprecated. Please use tf.compat.v1.executing_eagerly_outside_functions instead.\n",
      "\n",
      "281/281 [==============================] - 91s 317ms/step - loss: 2.0972 - accuracy: 0.2425 - val_loss: 1.8115 - val_accuracy: 0.2491\n",
      "Epoch 2/40\n",
      "281/281 [==============================] - 90s 321ms/step - loss: 1.8092 - accuracy: 0.2521 - val_loss: 1.8041 - val_accuracy: 0.2491\n",
      "Epoch 3/40\n",
      "281/281 [==============================] - 89s 317ms/step - loss: 1.7547 - accuracy: 0.2817 - val_loss: 1.7075 - val_accuracy: 0.2944\n",
      "Epoch 4/40\n",
      "281/281 [==============================] - 88s 315ms/step - loss: 1.7062 - accuracy: 0.3169 - val_loss: 1.6800 - val_accuracy: 0.3302\n",
      "Epoch 5/40\n",
      "281/281 [==============================] - 89s 316ms/step - loss: 1.6533 - accuracy: 0.3443 - val_loss: 1.6698 - val_accuracy: 0.3341\n",
      "Epoch 6/40\n",
      "281/281 [==============================] - 99s 352ms/step - loss: 1.6301 - accuracy: 0.3544 - val_loss: 1.7985 - val_accuracy: 0.2855\n",
      "Epoch 7/40\n",
      "281/281 [==============================] - 92s 326ms/step - loss: 1.6042 - accuracy: 0.3665 - val_loss: 1.5995 - val_accuracy: 0.3725\n",
      "Epoch 8/40\n",
      "281/281 [==============================] - 101s 361ms/step - loss: 1.5793 - accuracy: 0.3773 - val_loss: 1.5171 - val_accuracy: 0.3980\n",
      "Epoch 9/40\n",
      "281/281 [==============================] - 107s 382ms/step - loss: 1.5533 - accuracy: 0.3911 - val_loss: 1.5135 - val_accuracy: 0.4020\n",
      "Epoch 10/40\n",
      "281/281 [==============================] - 114s 407ms/step - loss: 1.5221 - accuracy: 0.4033 - val_loss: 1.5112 - val_accuracy: 0.4085\n",
      "Epoch 11/40\n",
      "281/281 [==============================] - 118s 420ms/step - loss: 1.5018 - accuracy: 0.4123 - val_loss: 1.4542 - val_accuracy: 0.4347\n",
      "Epoch 12/40\n",
      "281/281 [==============================] - 118s 420ms/step - loss: 1.4709 - accuracy: 0.4258 - val_loss: 1.4203 - val_accuracy: 0.4454\n",
      "Epoch 13/40\n",
      "281/281 [==============================] - 117s 416ms/step - loss: 1.4608 - accuracy: 0.4359 - val_loss: 1.4083 - val_accuracy: 0.4474\n",
      "Epoch 14/40\n",
      "281/281 [==============================] - 106s 378ms/step - loss: 1.4445 - accuracy: 0.4399 - val_loss: 1.3782 - val_accuracy: 0.4603\n",
      "Epoch 15/40\n",
      "281/281 [==============================] - 99s 354ms/step - loss: 1.4183 - accuracy: 0.4552 - val_loss: 1.3515 - val_accuracy: 0.4722\n",
      "Epoch 16/40\n",
      "281/281 [==============================] - 98s 349ms/step - loss: 1.3981 - accuracy: 0.4634 - val_loss: 1.3642 - val_accuracy: 0.4731\n",
      "Epoch 17/40\n",
      "281/281 [==============================] - 111s 395ms/step - loss: 1.3932 - accuracy: 0.4665 - val_loss: 1.3534 - val_accuracy: 0.4766\n",
      "Epoch 18/40\n",
      "281/281 [==============================] - 96s 341ms/step - loss: 1.3831 - accuracy: 0.4646 - val_loss: 1.3242 - val_accuracy: 0.4849\n",
      "Epoch 19/40\n",
      "281/281 [==============================] - 85s 302ms/step - loss: 1.3622 - accuracy: 0.4759 - val_loss: 1.3389 - val_accuracy: 0.4761\n",
      "Epoch 20/40\n",
      "281/281 [==============================] - 84s 301ms/step - loss: 1.3567 - accuracy: 0.4806 - val_loss: 1.3005 - val_accuracy: 0.4977\n",
      "Epoch 21/40\n",
      "281/281 [==============================] - 84s 300ms/step - loss: 1.3556 - accuracy: 0.4765 - val_loss: 1.3317 - val_accuracy: 0.4805\n",
      "Epoch 22/40\n",
      "281/281 [==============================] - 84s 299ms/step - loss: 1.3335 - accuracy: 0.4876 - val_loss: 1.3156 - val_accuracy: 0.4932\n",
      "Epoch 23/40\n",
      "281/281 [==============================] - 85s 303ms/step - loss: 1.3329 - accuracy: 0.4875 - val_loss: 1.2815 - val_accuracy: 0.5089\n",
      "Epoch 24/40\n",
      "281/281 [==============================] - 94s 337ms/step - loss: 1.3220 - accuracy: 0.4941 - val_loss: 1.2938 - val_accuracy: 0.4999\n",
      "Epoch 25/40\n",
      "281/281 [==============================] - 91s 325ms/step - loss: 1.3250 - accuracy: 0.4892 - val_loss: 1.3158 - val_accuracy: 0.4961\n",
      "Epoch 26/40\n",
      "281/281 [==============================] - 92s 327ms/step - loss: 1.3099 - accuracy: 0.4968 - val_loss: 1.2813 - val_accuracy: 0.5039\n",
      "Epoch 27/40\n",
      "281/281 [==============================] - 91s 325ms/step - loss: 1.3029 - accuracy: 0.5028 - val_loss: 1.2693 - val_accuracy: 0.5150\n",
      "Epoch 28/40\n",
      "281/281 [==============================] - 98s 350ms/step - loss: 1.2993 - accuracy: 0.5002 - val_loss: 1.2913 - val_accuracy: 0.5049\n",
      "Epoch 29/40\n",
      "281/281 [==============================] - 90s 319ms/step - loss: 1.2908 - accuracy: 0.5065 - val_loss: 1.2531 - val_accuracy: 0.5183\n",
      "Epoch 30/40\n",
      "281/281 [==============================] - 95s 338ms/step - loss: 1.2810 - accuracy: 0.5037 - val_loss: 1.2592 - val_accuracy: 0.5210\n",
      "Epoch 31/40\n",
      "281/281 [==============================] - 92s 329ms/step - loss: 1.2803 - accuracy: 0.5090 - val_loss: 1.2557 - val_accuracy: 0.5193\n",
      "Epoch 32/40\n",
      "281/281 [==============================] - 87s 308ms/step - loss: 1.2778 - accuracy: 0.5134 - val_loss: 1.2365 - val_accuracy: 0.5281\n",
      "Epoch 33/40\n",
      "281/281 [==============================] - 89s 318ms/step - loss: 1.2603 - accuracy: 0.5194 - val_loss: 1.2470 - val_accuracy: 0.5200\n",
      "Epoch 34/40\n",
      "281/281 [==============================] - 91s 324ms/step - loss: 1.2723 - accuracy: 0.5137 - val_loss: 1.2475 - val_accuracy: 0.5201\n",
      "Epoch 35/40\n",
      "281/281 [==============================] - 96s 343ms/step - loss: 1.2699 - accuracy: 0.5143 - val_loss: 1.2493 - val_accuracy: 0.5194\n",
      "Epoch 36/40\n",
      "281/281 [==============================] - 93s 332ms/step - loss: 1.2520 - accuracy: 0.5226 - val_loss: 1.2245 - val_accuracy: 0.5359\n",
      "Epoch 37/40\n",
      "281/281 [==============================] - 90s 321ms/step - loss: 1.2596 - accuracy: 0.5170 - val_loss: 1.2401 - val_accuracy: 0.5291\n",
      "Epoch 38/40\n",
      "281/281 [==============================] - 90s 319ms/step - loss: 1.2414 - accuracy: 0.5239 - val_loss: 1.2508 - val_accuracy: 0.5215\n",
      "Epoch 39/40\n",
      "281/281 [==============================] - 84s 301ms/step - loss: 1.2492 - accuracy: 0.5269 - val_loss: 1.2486 - val_accuracy: 0.5254\n",
      "Epoch 40/40\n",
      "281/281 [==============================] - 84s 299ms/step - loss: 1.2388 - accuracy: 0.5243 - val_loss: 1.2349 - val_accuracy: 0.5238\n"
     ]
    },
    {
     "data": {
      "text/plain": [
       "<keras.src.callbacks.History at 0x24d9dd04df0>"
      ]
     },
     "execution_count": 12,
     "metadata": {},
     "output_type": "execute_result"
    }
   ],
   "source": [
    "model.fit(train_faces, train_emotions, batch_size=64, epochs=40, verbose=1, validation_data=(test_faces, test_emotions))\n"
   ]
  },
  {
   "cell_type": "code",
   "execution_count": 13,
   "id": "35c5e0ee",
   "metadata": {},
   "outputs": [],
   "source": [
    "score = model.evaluate(test_faces, test_emotions, verbose=0)"
   ]
  },
  {
   "cell_type": "code",
   "execution_count": 14,
   "id": "eb910c9e",
   "metadata": {},
   "outputs": [
    {
     "name": "stdout",
     "output_type": "stream",
     "text": [
      "Test accuracy: 0.523769736289978\n"
     ]
    }
   ],
   "source": [
    "print('Test accuracy:', score[1])"
   ]
  },
  {
   "cell_type": "code",
   "execution_count": 15,
   "id": "5f000b24",
   "metadata": {},
   "outputs": [
    {
     "name": "stderr",
     "output_type": "stream",
     "text": [
      "C:\\Users\\User\\AppData\\Roaming\\Python\\Python39\\site-packages\\keras\\src\\engine\\training.py:3103: UserWarning: You are saving your model as an HDF5 file via `model.save()`. This file format is considered legacy. We recommend using instead the native Keras format, e.g. `model.save('my_model.keras')`.\n",
      "  saving_api.save_model(\n"
     ]
    }
   ],
   "source": [
    "model.save('emotion_detector_model.h5')"
   ]
  },
  {
   "cell_type": "code",
   "execution_count": null,
   "id": "97e8ae6e",
   "metadata": {},
   "outputs": [],
   "source": []
  }
 ],
 "metadata": {
  "kernelspec": {
   "display_name": "Python 3 (ipykernel)",
   "language": "python",
   "name": "python3"
  },
  "language_info": {
   "codemirror_mode": {
    "name": "ipython",
    "version": 3
   },
   "file_extension": ".py",
   "mimetype": "text/x-python",
   "name": "python",
   "nbconvert_exporter": "python",
   "pygments_lexer": "ipython3",
   "version": "3.9.13"
  }
 },
 "nbformat": 4,
 "nbformat_minor": 5
}
