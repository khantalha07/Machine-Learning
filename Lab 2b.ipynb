{
 "cells": [
  {
   "cell_type": "code",
   "execution_count": 20,
   "id": "702ac7de",
   "metadata": {},
   "outputs": [],
   "source": [
    "from sklearn.model_selection import train_test_split\n",
    "from sklearn.linear_model import LinearRegression\n",
    "from sklearn import metrics\n",
    "import pandas as pd\n",
    "import numpy as np"
   ]
  },
  {
   "cell_type": "code",
   "execution_count": 2,
   "id": "7248b073",
   "metadata": {},
   "outputs": [],
   "source": [
    "df = pd.read_csv('Housing.csv')"
   ]
  },
  {
   "cell_type": "code",
   "execution_count": 11,
   "id": "17ac1105",
   "metadata": {},
   "outputs": [],
   "source": [
    "features = ['area', 'bedrooms', 'bathrooms', 'stories'] \n",
    "X = df[features]\n",
    "y = df['price']"
   ]
  },
  {
   "cell_type": "code",
   "execution_count": 12,
   "id": "929901ce",
   "metadata": {},
   "outputs": [],
   "source": [
    "X_train, X_test, y_train, y_test = train_test_split(X, y, test_size=0.2, random_state=42)"
   ]
  },
  {
   "cell_type": "code",
   "execution_count": 13,
   "id": "7d8a2ff2",
   "metadata": {},
   "outputs": [],
   "source": [
    "model = LinearRegression()"
   ]
  },
  {
   "cell_type": "code",
   "execution_count": 14,
   "id": "358f8113",
   "metadata": {},
   "outputs": [
    {
     "data": {
      "text/plain": [
       "LinearRegression()"
      ]
     },
     "execution_count": 14,
     "metadata": {},
     "output_type": "execute_result"
    }
   ],
   "source": [
    "model.fit(X_train, y_train)"
   ]
  },
  {
   "cell_type": "code",
   "execution_count": 15,
   "id": "70450d1f",
   "metadata": {},
   "outputs": [],
   "source": [
    "predictions = model.predict(X_test)"
   ]
  },
  {
   "cell_type": "code",
   "execution_count": 17,
   "id": "c1ae760e",
   "metadata": {},
   "outputs": [
    {
     "name": "stdout",
     "output_type": "stream",
     "text": [
      "Mean Absolute Error: 1158970.4803166878\n"
     ]
    }
   ],
   "source": [
    "print('Mean Absolute Error:', metrics.mean_absolute_error(y_test, predictions))"
   ]
  },
  {
   "cell_type": "code",
   "execution_count": 18,
   "id": "cf54363b",
   "metadata": {},
   "outputs": [
    {
     "name": "stdout",
     "output_type": "stream",
     "text": [
      "Mean Squared Error: 2457741642022.0864\n"
     ]
    }
   ],
   "source": [
    "print('Mean Squared Error:', metrics.mean_squared_error(y_test, predictions))"
   ]
  },
  {
   "cell_type": "code",
   "execution_count": 21,
   "id": "836d1fa3",
   "metadata": {},
   "outputs": [
    {
     "name": "stdout",
     "output_type": "stream",
     "text": [
      "Root Mean Squared Error: 1567718.610600157\n"
     ]
    }
   ],
   "source": [
    "print('Root Mean Squared Error:', np.sqrt(metrics.mean_squared_error(y_test, predictions)))"
   ]
  },
  {
   "cell_type": "code",
   "execution_count": 22,
   "id": "40123984",
   "metadata": {},
   "outputs": [
    {
     "name": "stdout",
     "output_type": "stream",
     "text": [
      "Predicted prices: [6177576.81007289 6696157.1747214  3437037.80871783 4430631.95405246\n",
      " 3583802.16724906 4547069.04340545 5175286.57133353 5859977.94873148\n",
      " 3157830.01852758 3144049.8976994  9338793.18082853 3400042.77651762\n",
      " 3325354.69264173 3767513.4523506  4071151.9241825  6468790.52236393\n",
      " 3208917.60328874 4779641.69179028 4727290.23112961 4121096.89468396\n",
      " 5405331.46791935 4583715.06586792 3300575.00126234 4011820.26876708\n",
      " 5081053.94214431 7419871.2077382  3105478.5578669  4990763.43308296\n",
      " 7292511.8035026  3557927.34102657 5339773.17082078 3774493.64710536\n",
      " 6521652.30585249 4994282.68049904 4526789.9006117  5549179.01346347\n",
      " 4307082.50689327 3970119.36891988 3416277.4931349  5091109.49649506\n",
      " 4986821.3129551  3293943.81624533 6668236.39570238 4151424.1638622\n",
      " 4382854.19798733 4080960.77484411 7005511.96540856 4479673.5860171\n",
      " 4836566.8570465  3074067.6814705  7520301.32857185 3074067.6814705\n",
      " 4738844.13047991 4256127.08518355 4130663.84827928 3217341.94262435\n",
      " 6918259.5309741  3523206.63593412 5111381.21132255 3353275.47166076\n",
      " 4395040.38876945 4688870.00993974 4274661.17928861 3758126.76743663\n",
      " 4556275.45963808 3997859.87925756 7040232.670501   3732612.47857682\n",
      " 6759669.51902344 4191079.11091287 4938411.97242229 5389144.85693197\n",
      " 4958720.26525474 7124476.80656055 2963780.60434535 5605200.84018287\n",
      " 3952488.61335165 3707520.35546464 4295782.03223422 4051475.21581774\n",
      " 6821980.94898836 4109542.99533367 5379428.11787145 5497337.87563069\n",
      " 3278899.81951765 7281983.21129305 3178950.87147319 3889666.86055884\n",
      " 7191931.27099045 7470628.73835282 3699817.09085441 5011251.99459675\n",
      " 3929141.53892816 3875706.47104932 8545758.99926665 4151604.43254355\n",
      " 5862016.47356176 6935710.017861   5088996.48247744 5938023.9669333\n",
      " 3816374.81563389 5549179.01346347 4206001.84600075 6353617.30891045\n",
      " 4954326.82934054 5278905.88543671 7180197.10295881 6037792.64629642\n",
      " 5588833.96051414]\n"
     ]
    }
   ],
   "source": [
    "print('Predicted prices:', predictions)"
   ]
  },
  {
   "cell_type": "code",
   "execution_count": 23,
   "id": "78c2ccf2",
   "metadata": {},
   "outputs": [
    {
     "name": "stdout",
     "output_type": "stream",
     "text": [
      "      Actual     Predicted\n",
      "316  4060000  6.177577e+06\n",
      "77   6650000  6.696157e+06\n",
      "360  3710000  3.437038e+06\n",
      "90   6440000  4.430632e+06\n",
      "493  2800000  3.583802e+06\n",
      "..       ...           ...\n",
      "15   9100000  4.954327e+06\n",
      "357  3773000  5.278906e+06\n",
      "39   7910000  7.180197e+06\n",
      "54   7350000  6.037793e+06\n",
      "155  5530000  5.588834e+06\n",
      "\n",
      "[109 rows x 2 columns]\n"
     ]
    }
   ],
   "source": [
    "df_predictions = pd.DataFrame({'Actual': y_test, 'Predicted': predictions})\n",
    "print(df_predictions)\n"
   ]
  },
  {
   "cell_type": "code",
   "execution_count": null,
   "id": "511e6191",
   "metadata": {},
   "outputs": [],
   "source": []
  },
  {
   "cell_type": "code",
   "execution_count": null,
   "id": "e986de78",
   "metadata": {},
   "outputs": [],
   "source": []
  }
 ],
 "metadata": {
  "kernelspec": {
   "display_name": "Python 3 (ipykernel)",
   "language": "python",
   "name": "python3"
  },
  "language_info": {
   "codemirror_mode": {
    "name": "ipython",
    "version": 3
   },
   "file_extension": ".py",
   "mimetype": "text/x-python",
   "name": "python",
   "nbconvert_exporter": "python",
   "pygments_lexer": "ipython3",
   "version": "3.9.13"
  }
 },
 "nbformat": 4,
 "nbformat_minor": 5
}
