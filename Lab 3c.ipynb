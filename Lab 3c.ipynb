{
 "cells": [
  {
   "cell_type": "code",
   "execution_count": 1,
   "id": "541b2ec0",
   "metadata": {},
   "outputs": [
    {
     "name": "stderr",
     "output_type": "stream",
     "text": [
      "C:\\ProgramData\\Anaconda3\\lib\\site-packages\\scipy\\__init__.py:155: UserWarning: A NumPy version >=1.18.5 and <1.25.0 is required for this version of SciPy (detected version 1.26.3\n",
      "  warnings.warn(f\"A NumPy version >={np_minversion} and <{np_maxversion}\"\n"
     ]
    },
    {
     "name": "stdout",
     "output_type": "stream",
     "text": [
      "WARNING:tensorflow:From C:\\Users\\User\\AppData\\Roaming\\Python\\Python39\\site-packages\\keras\\src\\losses.py:2976: The name tf.losses.sparse_softmax_cross_entropy is deprecated. Please use tf.compat.v1.losses.sparse_softmax_cross_entropy instead.\n",
      "\n"
     ]
    }
   ],
   "source": [
    "import tensorflow as tf\n",
    "from tensorflow.keras.datasets import mnist\n",
    "from tensorflow.keras.models import Sequential\n",
    "from tensorflow.keras.layers import Dense, Dropout, Flatten\n",
    "from tensorflow.keras.layers import Conv2D, MaxPooling2D"
   ]
  },
  {
   "cell_type": "code",
   "execution_count": 2,
   "id": "f6a79fd2",
   "metadata": {},
   "outputs": [],
   "source": [
    "(x_train, y_train), (x_test, y_test) = mnist.load_data()"
   ]
  },
  {
   "cell_type": "code",
   "execution_count": 3,
   "id": "fd068c13",
   "metadata": {},
   "outputs": [],
   "source": [
    "x_train = x_train.reshape(x_train.shape[0], 28, 28, 1)\n",
    "x_test = x_test.reshape(x_test.shape[0], 28, 28, 1)\n",
    "input_shape = (28, 28, 1)"
   ]
  },
  {
   "cell_type": "code",
   "execution_count": 4,
   "id": "0bc3897c",
   "metadata": {},
   "outputs": [],
   "source": [
    "x_train = x_train.astype('float32')\n",
    "x_test = x_test.astype('float32')\n",
    "x_train /= 255\n",
    "x_test /= 255"
   ]
  },
  {
   "cell_type": "code",
   "execution_count": 5,
   "id": "cff7a499",
   "metadata": {},
   "outputs": [],
   "source": [
    "y_train = tf.keras.utils.to_categorical(y_train, 10)\n",
    "y_test = tf.keras.utils.to_categorical(y_test, 10)"
   ]
  },
  {
   "cell_type": "code",
   "execution_count": 6,
   "id": "596267e4",
   "metadata": {},
   "outputs": [
    {
     "name": "stdout",
     "output_type": "stream",
     "text": [
      "WARNING:tensorflow:From C:\\Users\\User\\AppData\\Roaming\\Python\\Python39\\site-packages\\keras\\src\\backend.py:873: The name tf.get_default_graph is deprecated. Please use tf.compat.v1.get_default_graph instead.\n",
      "\n",
      "WARNING:tensorflow:From C:\\Users\\User\\AppData\\Roaming\\Python\\Python39\\site-packages\\keras\\src\\layers\\pooling\\max_pooling2d.py:161: The name tf.nn.max_pool is deprecated. Please use tf.nn.max_pool2d instead.\n",
      "\n"
     ]
    }
   ],
   "source": [
    "model = Sequential()\n",
    "model.add(Conv2D(32, kernel_size=(3, 3), activation='relu', input_shape=input_shape))\n",
    "model.add(Conv2D(64, (3, 3), activation='relu'))\n",
    "model.add(MaxPooling2D(pool_size=(2, 2)))\n",
    "model.add(Dropout(0.25))\n",
    "model.add(Flatten())\n",
    "model.add(Dense(128, activation='relu'))\n",
    "model.add(Dropout(0.5))\n",
    "model.add(Dense(10, activation='softmax'))"
   ]
  },
  {
   "cell_type": "code",
   "execution_count": 7,
   "id": "0a0b5f4e",
   "metadata": {},
   "outputs": [],
   "source": [
    "model.compile(loss=tf.keras.losses.categorical_crossentropy, optimizer=tf.keras.optimizers.Adadelta(), metrics=['accuracy'])"
   ]
  },
  {
   "cell_type": "code",
   "execution_count": 8,
   "id": "f4a40eb8",
   "metadata": {},
   "outputs": [
    {
     "name": "stdout",
     "output_type": "stream",
     "text": [
      "Epoch 1/30\n",
      "WARNING:tensorflow:From C:\\Users\\User\\AppData\\Roaming\\Python\\Python39\\site-packages\\keras\\src\\utils\\tf_utils.py:492: The name tf.ragged.RaggedTensorValue is deprecated. Please use tf.compat.v1.ragged.RaggedTensorValue instead.\n",
      "\n",
      "WARNING:tensorflow:From C:\\Users\\User\\AppData\\Roaming\\Python\\Python39\\site-packages\\keras\\src\\engine\\base_layer_utils.py:384: The name tf.executing_eagerly_outside_functions is deprecated. Please use tf.compat.v1.executing_eagerly_outside_functions instead.\n",
      "\n",
      "469/469 [==============================] - 25s 51ms/step - loss: 2.2919 - accuracy: 0.1302 - val_loss: 2.2690 - val_accuracy: 0.2849\n",
      "Epoch 2/30\n",
      "469/469 [==============================] - 27s 57ms/step - loss: 2.2551 - accuracy: 0.2186 - val_loss: 2.2232 - val_accuracy: 0.4188\n",
      "Epoch 3/30\n",
      "469/469 [==============================] - 29s 62ms/step - loss: 2.2067 - accuracy: 0.3019 - val_loss: 2.1602 - val_accuracy: 0.5079\n",
      "Epoch 4/30\n",
      "469/469 [==============================] - 25s 54ms/step - loss: 2.1400 - accuracy: 0.3739 - val_loss: 2.0750 - val_accuracy: 0.5733\n",
      "Epoch 5/30\n",
      "469/469 [==============================] - 26s 55ms/step - loss: 2.0507 - accuracy: 0.4345 - val_loss: 1.9603 - val_accuracy: 0.6200\n",
      "Epoch 6/30\n",
      "469/469 [==============================] - 25s 53ms/step - loss: 1.9342 - accuracy: 0.4945 - val_loss: 1.8108 - val_accuracy: 0.6650\n",
      "Epoch 7/30\n",
      "469/469 [==============================] - 25s 53ms/step - loss: 1.7868 - accuracy: 0.5477 - val_loss: 1.6289 - val_accuracy: 0.7158\n",
      "Epoch 8/30\n",
      "469/469 [==============================] - 26s 55ms/step - loss: 1.6257 - accuracy: 0.5885 - val_loss: 1.4299 - val_accuracy: 0.7575\n",
      "Epoch 9/30\n",
      "469/469 [==============================] - 25s 53ms/step - loss: 1.4584 - accuracy: 0.6227 - val_loss: 1.2384 - val_accuracy: 0.7918\n",
      "Epoch 10/30\n",
      "469/469 [==============================] - 25s 54ms/step - loss: 1.3136 - accuracy: 0.6501 - val_loss: 1.0735 - val_accuracy: 0.8130\n",
      "Epoch 11/30\n",
      "469/469 [==============================] - 25s 54ms/step - loss: 1.1883 - accuracy: 0.6748 - val_loss: 0.9400 - val_accuracy: 0.8246\n",
      "Epoch 12/30\n",
      "469/469 [==============================] - 25s 54ms/step - loss: 1.0896 - accuracy: 0.6930 - val_loss: 0.8356 - val_accuracy: 0.8359\n",
      "Epoch 13/30\n",
      "469/469 [==============================] - 26s 56ms/step - loss: 1.0131 - accuracy: 0.7068 - val_loss: 0.7566 - val_accuracy: 0.8440\n",
      "Epoch 14/30\n",
      "469/469 [==============================] - 27s 58ms/step - loss: 0.9511 - accuracy: 0.7201 - val_loss: 0.6951 - val_accuracy: 0.8512\n",
      "Epoch 15/30\n",
      "469/469 [==============================] - 25s 54ms/step - loss: 0.8984 - accuracy: 0.7331 - val_loss: 0.6470 - val_accuracy: 0.8563\n",
      "Epoch 16/30\n",
      "469/469 [==============================] - 28s 60ms/step - loss: 0.8504 - accuracy: 0.7447 - val_loss: 0.6068 - val_accuracy: 0.8609\n",
      "Epoch 17/30\n",
      "469/469 [==============================] - 26s 55ms/step - loss: 0.8161 - accuracy: 0.7555 - val_loss: 0.5746 - val_accuracy: 0.8649\n",
      "Epoch 18/30\n",
      "469/469 [==============================] - 25s 53ms/step - loss: 0.7849 - accuracy: 0.7625 - val_loss: 0.5471 - val_accuracy: 0.8687\n",
      "Epoch 19/30\n",
      "469/469 [==============================] - 26s 56ms/step - loss: 0.7574 - accuracy: 0.7699 - val_loss: 0.5235 - val_accuracy: 0.8714\n",
      "Epoch 20/30\n",
      "469/469 [==============================] - 29s 61ms/step - loss: 0.7307 - accuracy: 0.7774 - val_loss: 0.5038 - val_accuracy: 0.8737\n",
      "Epoch 21/30\n",
      "469/469 [==============================] - 27s 58ms/step - loss: 0.7086 - accuracy: 0.7859 - val_loss: 0.4857 - val_accuracy: 0.8775\n",
      "Epoch 22/30\n",
      "469/469 [==============================] - 27s 57ms/step - loss: 0.6934 - accuracy: 0.7888 - val_loss: 0.4707 - val_accuracy: 0.8805\n",
      "Epoch 23/30\n",
      "469/469 [==============================] - 27s 59ms/step - loss: 0.6743 - accuracy: 0.7962 - val_loss: 0.4572 - val_accuracy: 0.8828\n",
      "Epoch 24/30\n",
      "469/469 [==============================] - 27s 57ms/step - loss: 0.6589 - accuracy: 0.7991 - val_loss: 0.4450 - val_accuracy: 0.8857\n",
      "Epoch 25/30\n",
      "469/469 [==============================] - 28s 60ms/step - loss: 0.6403 - accuracy: 0.8053 - val_loss: 0.4333 - val_accuracy: 0.8882\n",
      "Epoch 26/30\n",
      "469/469 [==============================] - 29s 61ms/step - loss: 0.6319 - accuracy: 0.8071 - val_loss: 0.4235 - val_accuracy: 0.8903\n",
      "Epoch 27/30\n",
      "469/469 [==============================] - 28s 60ms/step - loss: 0.6178 - accuracy: 0.8127 - val_loss: 0.4141 - val_accuracy: 0.8916\n",
      "Epoch 28/30\n",
      "469/469 [==============================] - 28s 59ms/step - loss: 0.6105 - accuracy: 0.8138 - val_loss: 0.4057 - val_accuracy: 0.8934\n",
      "Epoch 29/30\n",
      "469/469 [==============================] - 26s 56ms/step - loss: 0.5958 - accuracy: 0.8180 - val_loss: 0.3979 - val_accuracy: 0.8948\n",
      "Epoch 30/30\n",
      "469/469 [==============================] - 26s 56ms/step - loss: 0.5909 - accuracy: 0.8196 - val_loss: 0.3908 - val_accuracy: 0.8969\n"
     ]
    },
    {
     "data": {
      "text/plain": [
       "<keras.src.callbacks.History at 0x20cb744fdf0>"
      ]
     },
     "execution_count": 8,
     "metadata": {},
     "output_type": "execute_result"
    }
   ],
   "source": [
    "model.fit(x_train, y_train, batch_size=128, epochs=30, verbose=1, validation_data=(x_test, y_test))"
   ]
  },
  {
   "cell_type": "code",
   "execution_count": 9,
   "id": "b8e7aabb",
   "metadata": {},
   "outputs": [
    {
     "name": "stdout",
     "output_type": "stream",
     "text": [
      "Test loss: 0.39083316922187805\n",
      "Test accuracy: 0.8968999981880188\n"
     ]
    }
   ],
   "source": [
    "score = model.evaluate(x_test, y_test, verbose=0)\n",
    "print('Test loss:', score[0])\n",
    "print('Test accuracy:', score[1])"
   ]
  },
  {
   "cell_type": "code",
   "execution_count": null,
   "id": "19fc2b3d",
   "metadata": {},
   "outputs": [],
   "source": []
  }
 ],
 "metadata": {
  "kernelspec": {
   "display_name": "Python 3 (ipykernel)",
   "language": "python",
   "name": "python3"
  },
  "language_info": {
   "codemirror_mode": {
    "name": "ipython",
    "version": 3
   },
   "file_extension": ".py",
   "mimetype": "text/x-python",
   "name": "python",
   "nbconvert_exporter": "python",
   "pygments_lexer": "ipython3",
   "version": "3.9.13"
  }
 },
 "nbformat": 4,
 "nbformat_minor": 5
}
