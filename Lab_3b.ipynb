{
  "nbformat": 4,
  "nbformat_minor": 0,
  "metadata": {
    "colab": {
      "provenance": []
    },
    "kernelspec": {
      "name": "python3",
      "display_name": "Python 3"
    },
    "language_info": {
      "name": "python"
    }
  },
  "cells": [
    {
      "cell_type": "code",
      "execution_count": 1,
      "metadata": {
        "id": "vjxZosdyCo4C"
      },
      "outputs": [],
      "source": [
        "import numpy\n",
        "from keras.preprocessing import sequence\n",
        "from keras.models import Sequential\n",
        "from keras.layers import Dense , Dropout , Activation\n",
        "from keras.layers import LSTM , Embedding\n",
        "from keras.layers import MaxPooling1D , GlobalMaxPooling1D,Conv1D , Flatten\n",
        "from keras.datasets import imdb\n",
        "from keras.preprocessing import text"
      ]
    },
    {
      "cell_type": "code",
      "source": [
        "top_words = 7000\n",
        "(X_train , y_train), (X_test , y_test) = imdb.load_data(num_words = top_words)"
      ],
      "metadata": {
        "colab": {
          "base_uri": "https://localhost:8080/"
        },
        "id": "ohJIOCwkCtCU",
        "outputId": "cc1999e3-f4b8-481d-fbbe-8d706205e019"
      },
      "execution_count": 2,
      "outputs": [
        {
          "output_type": "stream",
          "name": "stdout",
          "text": [
            "Downloading data from https://storage.googleapis.com/tensorflow/tf-keras-datasets/imdb.npz\n",
            "17464789/17464789 [==============================] - 0s 0us/step\n"
          ]
        }
      ]
    },
    {
      "cell_type": "code",
      "source": [
        "max_words = 450\n",
        "X_train = sequence.pad_sequences(X_train , maxlen = max_words)\n",
        "X_test = sequence.pad_sequences(X_test , maxlen = max_words)"
      ],
      "metadata": {
        "id": "AA_QosxqC1y3"
      },
      "execution_count": 3,
      "outputs": []
    },
    {
      "cell_type": "code",
      "source": [
        "X_train.shape"
      ],
      "metadata": {
        "colab": {
          "base_uri": "https://localhost:8080/"
        },
        "id": "Ye2MYszNC5hT",
        "outputId": "8c3d4813-75e9-439b-bd6b-70b0d1afc2f0"
      },
      "execution_count": 4,
      "outputs": [
        {
          "output_type": "execute_result",
          "data": {
            "text/plain": [
              "(25000, 450)"
            ]
          },
          "metadata": {},
          "execution_count": 4
        }
      ]
    },
    {
      "cell_type": "code",
      "source": [
        "model = Sequential()\n",
        "model.add(Embedding(top_words , 32 , input_length = max_words))\n",
        "\n",
        "model.add(Conv1D(128 , 5 , padding = 'same',activation = 'relu'))\n",
        "model.add(MaxPooling1D(5))\n",
        "\n",
        "model.add(Conv1D(128 , 5 , padding = 'same',activation = 'relu'))\n",
        "model.add(MaxPooling1D(5))\n",
        "\n",
        "model.add(Conv1D(128 , 5 , padding = 'same',activation = 'relu'))\n",
        "model.add(MaxPooling1D(5))\n",
        "\n",
        "model.add(Flatten())\n",
        "model.add(Dense(250, activation='relu'))\n",
        "model.add(Dense(120, activation='relu'))\n",
        "model.add(Dense(1, activation='sigmoid'))"
      ],
      "metadata": {
        "id": "cUaK6vQvC77y"
      },
      "execution_count": 5,
      "outputs": []
    },
    {
      "cell_type": "code",
      "source": [
        "model.compile(loss = 'binary_crossentropy' , optimizer = 'adam' , metrics = 'accuracy')\n",
        "model.summary()"
      ],
      "metadata": {
        "colab": {
          "base_uri": "https://localhost:8080/"
        },
        "id": "2JO8BkrmC-Uu",
        "outputId": "84edcca7-5a08-49e6-b144-bcf91b50c3c6"
      },
      "execution_count": 6,
      "outputs": [
        {
          "output_type": "stream",
          "name": "stdout",
          "text": [
            "Model: \"sequential\"\n",
            "_________________________________________________________________\n",
            " Layer (type)                Output Shape              Param #   \n",
            "=================================================================\n",
            " embedding (Embedding)       (None, 450, 32)           224000    \n",
            "                                                                 \n",
            " conv1d (Conv1D)             (None, 450, 128)          20608     \n",
            "                                                                 \n",
            " max_pooling1d (MaxPooling1  (None, 90, 128)           0         \n",
            " D)                                                              \n",
            "                                                                 \n",
            " conv1d_1 (Conv1D)           (None, 90, 128)           82048     \n",
            "                                                                 \n",
            " max_pooling1d_1 (MaxPoolin  (None, 18, 128)           0         \n",
            " g1D)                                                            \n",
            "                                                                 \n",
            " conv1d_2 (Conv1D)           (None, 18, 128)           82048     \n",
            "                                                                 \n",
            " max_pooling1d_2 (MaxPoolin  (None, 3, 128)            0         \n",
            " g1D)                                                            \n",
            "                                                                 \n",
            " flatten (Flatten)           (None, 384)               0         \n",
            "                                                                 \n",
            " dense (Dense)               (None, 250)               96250     \n",
            "                                                                 \n",
            " dense_1 (Dense)             (None, 120)               30120     \n",
            "                                                                 \n",
            " dense_2 (Dense)             (None, 1)                 121       \n",
            "                                                                 \n",
            "=================================================================\n",
            "Total params: 535195 (2.04 MB)\n",
            "Trainable params: 535195 (2.04 MB)\n",
            "Non-trainable params: 0 (0.00 Byte)\n",
            "_________________________________________________________________\n"
          ]
        }
      ]
    },
    {
      "cell_type": "code",
      "source": [
        "model.fit(X_train , y_train , validation_data= (X_test , y_test) ,batch_size = 128,\n",
        "          epochs = 2 , verbose = 2\n",
        ")"
      ],
      "metadata": {
        "colab": {
          "base_uri": "https://localhost:8080/"
        },
        "id": "NogkRUDpDBIp",
        "outputId": "e520f257-22b6-4efe-ae63-8669a3d0bc94"
      },
      "execution_count": 7,
      "outputs": [
        {
          "output_type": "stream",
          "name": "stdout",
          "text": [
            "Epoch 1/2\n",
            "196/196 - 93s - loss: 0.5127 - accuracy: 0.7034 - val_loss: 0.3265 - val_accuracy: 0.8608 - 93s/epoch - 474ms/step\n",
            "Epoch 2/2\n",
            "196/196 - 93s - loss: 0.2585 - accuracy: 0.8954 - val_loss: 0.3274 - val_accuracy: 0.8596 - 93s/epoch - 475ms/step\n"
          ]
        },
        {
          "output_type": "execute_result",
          "data": {
            "text/plain": [
              "<keras.src.callbacks.History at 0x7bb8114e3fa0>"
            ]
          },
          "metadata": {},
          "execution_count": 7
        }
      ]
    },
    {
      "cell_type": "code",
      "source": [
        "scores = model.evaluate(X_test, y_test, verbose=0)\n",
        "scores"
      ],
      "metadata": {
        "colab": {
          "base_uri": "https://localhost:8080/"
        },
        "id": "Fa1J3pGgDFYf",
        "outputId": "c0bec4bb-a0a3-48e3-ab50-b79bce5a29e9"
      },
      "execution_count": 8,
      "outputs": [
        {
          "output_type": "execute_result",
          "data": {
            "text/plain": [
              "[0.3274194300174713, 0.8596000075340271]"
            ]
          },
          "metadata": {},
          "execution_count": 8
        }
      ]
    },
    {
      "cell_type": "code",
      "source": [
        "print(\"Accuracy: %.2f%%\" % (scores[1]*100))"
      ],
      "metadata": {
        "colab": {
          "base_uri": "https://localhost:8080/"
        },
        "id": "DicS0Pq0D6TH",
        "outputId": "be2c624b-3f1a-4de6-8fd5-01d7bcf0e801"
      },
      "execution_count": 9,
      "outputs": [
        {
          "output_type": "stream",
          "name": "stdout",
          "text": [
            "Accuracy: 85.96%\n"
          ]
        }
      ]
    },
    {
      "cell_type": "code",
      "source": [],
      "metadata": {
        "id": "g9FCNl6UEBsb"
      },
      "execution_count": null,
      "outputs": []
    }
  ]
}