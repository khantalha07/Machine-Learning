{
 "cells": [
  {
   "cell_type": "code",
   "execution_count": 2,
   "id": "de8fdbe0",
   "metadata": {},
   "outputs": [
    {
     "name": "stderr",
     "output_type": "stream",
     "text": [
      "C:\\ProgramData\\Anaconda3\\lib\\site-packages\\scipy\\__init__.py:155: UserWarning: A NumPy version >=1.18.5 and <1.25.0 is required for this version of SciPy (detected version 1.26.3\n",
      "  warnings.warn(f\"A NumPy version >={np_minversion} and <{np_maxversion}\"\n"
     ]
    },
    {
     "name": "stdout",
     "output_type": "stream",
     "text": [
      "WARNING:tensorflow:From C:\\Users\\User\\AppData\\Roaming\\Python\\Python39\\site-packages\\keras\\src\\losses.py:2976: The name tf.losses.sparse_softmax_cross_entropy is deprecated. Please use tf.compat.v1.losses.sparse_softmax_cross_entropy instead.\n",
      "\n"
     ]
    }
   ],
   "source": [
    "import numpy as np\n",
    "import pandas as pd\n",
    "from keras.models import Sequential\n",
    "from keras.layers import Dense, Dropout, Flatten\n",
    "from keras.layers import Conv2D, MaxPooling2D\n",
    "from tensorflow.python.keras.utils import np_utils"
   ]
  },
  {
   "cell_type": "code",
   "execution_count": 3,
   "id": "8b988a2c",
   "metadata": {},
   "outputs": [],
   "source": [
    "data = pd.read_csv('fer2013.csv')"
   ]
  },
  {
   "cell_type": "code",
   "execution_count": 4,
   "id": "102637b8",
   "metadata": {},
   "outputs": [],
   "source": [
    "pixels = data['pixels'].tolist()"
   ]
  },
  {
   "cell_type": "code",
   "execution_count": 5,
   "id": "bdcf81e3",
   "metadata": {},
   "outputs": [],
   "source": [
    "faces = []\n",
    "for pixel_sequence in pixels:\n",
    "    face = [int(pixel) for pixel in pixel_sequence.split(' ')]\n",
    "    face = np.asarray(face).reshape(48, 48)\n",
    "    faces.append(face.astype('float32'))"
   ]
  },
  {
   "cell_type": "code",
   "execution_count": 6,
   "id": "0e61f4aa",
   "metadata": {},
   "outputs": [],
   "source": [
    "faces = np.asarray(faces)\n",
    "faces = np.expand_dims(faces, -1)\n",
    "emotions = pd.get_dummies(data['emotion']).values"
   ]
  },
  {
   "cell_type": "code",
   "execution_count": 7,
   "id": "24941906",
   "metadata": {},
   "outputs": [],
   "source": [
    "train_faces = faces[int(len(faces)/2):]\n",
    "train_emotions = emotions[int(len(faces)/2):]\n",
    "test_faces = faces[:int(len(faces)/2)]\n",
    "test_emotions = emotions[:int(len(faces)/2)]"
   ]
  },
  {
   "cell_type": "code",
   "execution_count": 8,
   "id": "7c33c8d4",
   "metadata": {},
   "outputs": [
    {
     "name": "stdout",
     "output_type": "stream",
     "text": [
      "WARNING:tensorflow:From C:\\Users\\User\\AppData\\Roaming\\Python\\Python39\\site-packages\\keras\\src\\backend.py:873: The name tf.get_default_graph is deprecated. Please use tf.compat.v1.get_default_graph instead.\n",
      "\n",
      "WARNING:tensorflow:From C:\\Users\\User\\AppData\\Roaming\\Python\\Python39\\site-packages\\keras\\src\\layers\\pooling\\max_pooling2d.py:161: The name tf.nn.max_pool is deprecated. Please use tf.nn.max_pool2d instead.\n",
      "\n"
     ]
    }
   ],
   "source": [
    "model = Sequential()\n",
    "model.add(Conv2D(64, kernel_size=(3, 3), activation='relu', input_shape=(48, 48, 1)))\n",
    "model.add(Conv2D(64, kernel_size=(3, 3), activation='relu'))\n",
    "model.add(MaxPooling2D(pool_size=(2, 2)))\n",
    "model.add(Dropout(0.5))\n",
    "model.add(Flatten())\n",
    "model.add(Dense(256, activation='relu'))\n",
    "model.add(Dropout(0.5))\n",
    "model.add(Dense(7, activation='softmax'))"
   ]
  },
  {
   "cell_type": "code",
   "execution_count": 9,
   "id": "43af4977",
   "metadata": {},
   "outputs": [
    {
     "name": "stdout",
     "output_type": "stream",
     "text": [
      "WARNING:tensorflow:From C:\\Users\\User\\AppData\\Roaming\\Python\\Python39\\site-packages\\keras\\src\\optimizers\\__init__.py:309: The name tf.train.Optimizer is deprecated. Please use tf.compat.v1.train.Optimizer instead.\n",
      "\n"
     ]
    }
   ],
   "source": [
    "model.compile(loss='categorical_crossentropy', optimizer='adam', metrics=['accuracy'])"
   ]
  },
  {
   "cell_type": "code",
   "execution_count": 10,
   "id": "a3f05206",
   "metadata": {},
   "outputs": [
    {
     "name": "stdout",
     "output_type": "stream",
     "text": [
      "Epoch 1/30\n",
      "WARNING:tensorflow:From C:\\Users\\User\\AppData\\Roaming\\Python\\Python39\\site-packages\\keras\\src\\utils\\tf_utils.py:492: The name tf.ragged.RaggedTensorValue is deprecated. Please use tf.compat.v1.ragged.RaggedTensorValue instead.\n",
      "\n",
      "WARNING:tensorflow:From C:\\Users\\User\\AppData\\Roaming\\Python\\Python39\\site-packages\\keras\\src\\engine\\base_layer_utils.py:384: The name tf.executing_eagerly_outside_functions is deprecated. Please use tf.compat.v1.executing_eagerly_outside_functions instead.\n",
      "\n",
      "281/281 [==============================] - 58s 204ms/step - loss: 5.0338 - accuracy: 0.2521 - val_loss: 1.7459 - val_accuracy: 0.2943\n",
      "Epoch 2/30\n",
      "281/281 [==============================] - 57s 204ms/step - loss: 1.7590 - accuracy: 0.2871 - val_loss: 1.7525 - val_accuracy: 0.2856\n",
      "Epoch 3/30\n",
      "281/281 [==============================] - 62s 220ms/step - loss: 1.7265 - accuracy: 0.3028 - val_loss: 1.7404 - val_accuracy: 0.2920\n",
      "Epoch 4/30\n",
      "281/281 [==============================] - 61s 218ms/step - loss: 1.7096 - accuracy: 0.3133 - val_loss: 1.7497 - val_accuracy: 0.2901\n",
      "Epoch 5/30\n",
      "281/281 [==============================] - 58s 207ms/step - loss: 1.7280 - accuracy: 0.3037 - val_loss: 1.8105 - val_accuracy: 0.2592\n",
      "Epoch 6/30\n",
      "281/281 [==============================] - 59s 211ms/step - loss: 1.7400 - accuracy: 0.2985 - val_loss: 1.7848 - val_accuracy: 0.2745\n",
      "Epoch 7/30\n",
      "281/281 [==============================] - 59s 211ms/step - loss: 1.6658 - accuracy: 0.3349 - val_loss: 1.7590 - val_accuracy: 0.2960\n",
      "Epoch 8/30\n",
      "281/281 [==============================] - 59s 210ms/step - loss: 1.6127 - accuracy: 0.3596 - val_loss: 1.7637 - val_accuracy: 0.3061\n",
      "Epoch 9/30\n",
      "281/281 [==============================] - 63s 223ms/step - loss: 1.5718 - accuracy: 0.3777 - val_loss: 1.7278 - val_accuracy: 0.3307\n",
      "Epoch 10/30\n",
      "281/281 [==============================] - 60s 213ms/step - loss: 1.5352 - accuracy: 0.3982 - val_loss: 1.7758 - val_accuracy: 0.3078\n",
      "Epoch 11/30\n",
      "281/281 [==============================] - 70s 251ms/step - loss: 1.5070 - accuracy: 0.4089 - val_loss: 1.7900 - val_accuracy: 0.3211\n",
      "Epoch 12/30\n",
      "281/281 [==============================] - 75s 267ms/step - loss: 1.4655 - accuracy: 0.4310 - val_loss: 1.7748 - val_accuracy: 0.3349\n",
      "Epoch 13/30\n",
      "281/281 [==============================] - 81s 289ms/step - loss: 1.4222 - accuracy: 0.4469 - val_loss: 1.7882 - val_accuracy: 0.3299\n",
      "Epoch 14/30\n",
      "281/281 [==============================] - 75s 269ms/step - loss: 1.3745 - accuracy: 0.4688 - val_loss: 1.7653 - val_accuracy: 0.3529\n",
      "Epoch 15/30\n",
      "281/281 [==============================] - 60s 214ms/step - loss: 1.3336 - accuracy: 0.4912 - val_loss: 1.7392 - val_accuracy: 0.3558\n",
      "Epoch 16/30\n",
      "281/281 [==============================] - 58s 207ms/step - loss: 1.2807 - accuracy: 0.5087 - val_loss: 1.7911 - val_accuracy: 0.3519\n",
      "Epoch 17/30\n",
      "281/281 [==============================] - 57s 205ms/step - loss: 1.2353 - accuracy: 0.5307 - val_loss: 1.9333 - val_accuracy: 0.3386\n",
      "Epoch 18/30\n",
      "281/281 [==============================] - 59s 209ms/step - loss: 1.1973 - accuracy: 0.5524 - val_loss: 1.7630 - val_accuracy: 0.3718\n",
      "Epoch 19/30\n",
      "281/281 [==============================] - 62s 222ms/step - loss: 1.1233 - accuracy: 0.5805 - val_loss: 1.7822 - val_accuracy: 0.3861\n",
      "Epoch 20/30\n",
      "281/281 [==============================] - 59s 210ms/step - loss: 1.0726 - accuracy: 0.6003 - val_loss: 1.8651 - val_accuracy: 0.3836\n",
      "Epoch 21/30\n",
      "281/281 [==============================] - 60s 213ms/step - loss: 1.0360 - accuracy: 0.6197 - val_loss: 1.8594 - val_accuracy: 0.4051\n",
      "Epoch 22/30\n",
      "281/281 [==============================] - 63s 224ms/step - loss: 0.9606 - accuracy: 0.6527 - val_loss: 1.8513 - val_accuracy: 0.4090\n",
      "Epoch 23/30\n",
      "281/281 [==============================] - 64s 227ms/step - loss: 0.9196 - accuracy: 0.6689 - val_loss: 1.8969 - val_accuracy: 0.4093\n",
      "Epoch 24/30\n",
      "281/281 [==============================] - 61s 218ms/step - loss: 0.8600 - accuracy: 0.6929 - val_loss: 1.8114 - val_accuracy: 0.4254\n",
      "Epoch 25/30\n",
      "281/281 [==============================] - 61s 217ms/step - loss: 0.8151 - accuracy: 0.7116 - val_loss: 1.8434 - val_accuracy: 0.4121\n",
      "Epoch 26/30\n",
      "281/281 [==============================] - 59s 209ms/step - loss: 0.7754 - accuracy: 0.7243 - val_loss: 1.8985 - val_accuracy: 0.4248\n",
      "Epoch 27/30\n",
      "281/281 [==============================] - 63s 223ms/step - loss: 0.7222 - accuracy: 0.7432 - val_loss: 1.8496 - val_accuracy: 0.4238\n",
      "Epoch 28/30\n",
      "281/281 [==============================] - 67s 240ms/step - loss: 0.7040 - accuracy: 0.7540 - val_loss: 1.8481 - val_accuracy: 0.4342\n",
      "Epoch 29/30\n",
      "281/281 [==============================] - 63s 223ms/step - loss: 0.6611 - accuracy: 0.7703 - val_loss: 1.9326 - val_accuracy: 0.4314\n",
      "Epoch 30/30\n",
      "281/281 [==============================] - 58s 205ms/step - loss: 0.6396 - accuracy: 0.7795 - val_loss: 1.7676 - val_accuracy: 0.4289\n"
     ]
    },
    {
     "data": {
      "text/plain": [
       "<keras.src.callbacks.History at 0x17a1c47ed30>"
      ]
     },
     "execution_count": 10,
     "metadata": {},
     "output_type": "execute_result"
    }
   ],
   "source": [
    "model.fit(train_faces, train_emotions, batch_size=64, epochs=30, verbose=1, validation_data=(test_faces, test_emotions))"
   ]
  },
  {
   "cell_type": "code",
   "execution_count": 11,
   "id": "cc22f3e4",
   "metadata": {},
   "outputs": [
    {
     "name": "stderr",
     "output_type": "stream",
     "text": [
      "C:\\Users\\User\\AppData\\Roaming\\Python\\Python39\\site-packages\\keras\\src\\engine\\training.py:3103: UserWarning: You are saving your model as an HDF5 file via `model.save()`. This file format is considered legacy. We recommend using instead the native Keras format, e.g. `model.save('my_model.keras')`.\n",
      "  saving_api.save_model(\n"
     ]
    }
   ],
   "source": [
    "model.save('emotion_detector_model.h5')"
   ]
  },
  {
   "cell_type": "code",
   "execution_count": 13,
   "id": "2b11401d",
   "metadata": {},
   "outputs": [],
   "source": [
    "score = model.evaluate(test_faces, test_emotions, verbose=0)"
   ]
  },
  {
   "cell_type": "code",
   "execution_count": 14,
   "id": "ad33f16d",
   "metadata": {},
   "outputs": [
    {
     "name": "stdout",
     "output_type": "stream",
     "text": [
      "Test accuracy: 0.42885804176330566\n"
     ]
    }
   ],
   "source": [
    "print('Test accuracy:', score[1])"
   ]
  },
  {
   "cell_type": "code",
   "execution_count": 15,
   "id": "81ef7832",
   "metadata": {},
   "outputs": [],
   "source": [
    "model.save('emotion_detector_model.h5')"
   ]
  },
  {
   "cell_type": "code",
   "execution_count": null,
   "id": "508de8ac",
   "metadata": {},
   "outputs": [],
   "source": []
  }
 ],
 "metadata": {
  "kernelspec": {
   "display_name": "Python 3 (ipykernel)",
   "language": "python",
   "name": "python3"
  },
  "language_info": {
   "codemirror_mode": {
    "name": "ipython",
    "version": 3
   },
   "file_extension": ".py",
   "mimetype": "text/x-python",
   "name": "python",
   "nbconvert_exporter": "python",
   "pygments_lexer": "ipython3",
   "version": "3.9.13"
  }
 },
 "nbformat": 4,
 "nbformat_minor": 5
}
